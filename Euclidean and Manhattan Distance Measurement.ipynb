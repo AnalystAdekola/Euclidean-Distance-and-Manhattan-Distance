{
 "cells": [
  {
   "cell_type": "markdown",
   "id": "81957c1b",
   "metadata": {},
   "source": [
    "# Euclidean Distance Measurement\n",
    "\n",
    "### The Euclidean distance is used  to measure the dictance connecting 2 points\n",
    "### Euclidean distance works better when you have low-dimensional data and the magnitude of the vectors is important."
   ]
  },
  {
   "cell_type": "code",
   "execution_count": 1,
   "id": "5a8a43f4",
   "metadata": {},
   "outputs": [],
   "source": [
    "import numpy as np"
   ]
  },
  {
   "cell_type": "code",
   "execution_count": 5,
   "id": "0e41a612",
   "metadata": {},
   "outputs": [
    {
     "name": "stdout",
     "output_type": "stream",
     "text": [
      "Euclidean distance is: 2.8284271247461903\n"
     ]
    }
   ],
   "source": [
    "# 2 dimensional points\n",
    "\n",
    "p1=(1,2)  \n",
    "p2=(3,4)  \n",
    "\n",
    "d = (p1[0]- p2[0])**2 + (p1[1] - p2[1])**2\n",
    "\n",
    "euclidean_distance = np.sqrt(d)\n",
    "print('Euclidean distance is:', euclidean_distance)"
   ]
  },
  {
   "cell_type": "code",
   "execution_count": 6,
   "id": "08876a36",
   "metadata": {},
   "outputs": [
    {
     "name": "stdout",
     "output_type": "stream",
     "text": [
      "Euclidean distance is: 3.0\n"
     ]
    }
   ],
   "source": [
    "# 3 dimensional points\n",
    "\n",
    "p1=(1,2,5) \n",
    "p2=(3,4,6)  \n",
    "\n",
    "d = (p1[0]- p2[0])**2 + (p1[1] - p2[1])**2 + (p1[2] - p2[2])**2\n",
    "\n",
    "euclidean_distance = np.sqrt(d)\n",
    "print('Euclidean distance is:', euclidean_distance)"
   ]
  },
  {
   "cell_type": "code",
   "execution_count": 7,
   "id": "23603c05",
   "metadata": {},
   "outputs": [
    {
     "name": "stdout",
     "output_type": "stream",
     "text": [
      "Euclidean distance is: 3.1622776601683795\n"
     ]
    }
   ],
   "source": [
    "# 4 dimensional points\n",
    "\n",
    "p1=(1,2,5,7) \n",
    "p2=(3,4,6,8)  \n",
    "\n",
    "d = (p1[0]- p2[0])**2 + (p1[1] - p2[1])**2 + (p1[2] - p2[2])**2 + (p1[3] -p2[3])**2\n",
    "\n",
    "euclidean_distance = np.sqrt(d)\n",
    "print('Euclidean distance is:', euclidean_distance)"
   ]
  },
  {
   "cell_type": "code",
   "execution_count": 14,
   "id": "85b11e2b",
   "metadata": {},
   "outputs": [
    {
     "name": "stdout",
     "output_type": "stream",
     "text": [
      "Euclidean distance is: 3.3166247903554\n"
     ]
    }
   ],
   "source": [
    "# Using a loop \n",
    "\n",
    "p1=(1,2,5,7,9)  \n",
    "p2=(3,4,6,8,10)  \n",
    "\n",
    "d = 0\n",
    "for i in range(len(p1)):\n",
    "    d = d + (p1[i] -p2[i])**2\n",
    "\n",
    "euclidean_distance = np.sqrt(d)\n",
    "print('Euclidean distance is:', euclidean_distance)"
   ]
  },
  {
   "cell_type": "code",
   "execution_count": 15,
   "id": "63228c4d",
   "metadata": {},
   "outputs": [],
   "source": [
    "# Creating a function to get Euclidean distance\n",
    "\n",
    "def euclid_dist_cal(p1,p2):\n",
    "    d = 0\n",
    "    for i in range(len(p1)):\n",
    "        d = d + (p1[i] -p2[i])**2\n",
    "\n",
    "    euclidean_distance = np.sqrt(d)\n",
    "    print('Euclidean distance is:', euclidean_distance)"
   ]
  },
  {
   "cell_type": "code",
   "execution_count": 16,
   "id": "13c76e64",
   "metadata": {},
   "outputs": [
    {
     "name": "stdout",
     "output_type": "stream",
     "text": [
      "Euclidean distance is: 3.1622776601683795\n"
     ]
    }
   ],
   "source": [
    "euclid_dist_cal((1,2,5,7),(3,4,6,8))"
   ]
  },
  {
   "cell_type": "markdown",
   "id": "0c38c3b5",
   "metadata": {},
   "source": [
    "# Manhattan Distance"
   ]
  },
  {
   "cell_type": "markdown",
   "id": "5434366d",
   "metadata": {},
   "source": [
    "### The Manhatttan distance measure works well on datasets with discrete or binary attributes.\n",
    "### And it's an alternative way of calculating Euclidean distance if diagonal measurement is not possible\n",
    "### (x1-x2) + (y1-y2)\n",
    "\n"
   ]
  },
  {
   "cell_type": "code",
   "execution_count": 22,
   "id": "40953bee",
   "metadata": {},
   "outputs": [],
   "source": [
    "# Create a function to get Manhattan Distance\n",
    "\n",
    "def manhattan_dist_cal(p1,p2):\n",
    "    d = 0\n",
    "    for i in range(len(p1)):\n",
    "        d = d + abs(p1[i] -p2[i])\n",
    "\n",
    "    Manhattan_distance = d\n",
    "    print('Manhattan distance is:', Manhattan_distance)"
   ]
  },
  {
   "cell_type": "code",
   "execution_count": 23,
   "id": "a66a5e69",
   "metadata": {},
   "outputs": [
    {
     "name": "stdout",
     "output_type": "stream",
     "text": [
      "Manhattan distance is: 6\n"
     ]
    }
   ],
   "source": [
    "manhattan_dist_cal((1,2,5,7),(3,4,6,8))"
   ]
  },
  {
   "cell_type": "code",
   "execution_count": 24,
   "id": "453668cc",
   "metadata": {},
   "outputs": [
    {
     "name": "stdout",
     "output_type": "stream",
     "text": [
      "Manhattan distance is: 6\n",
      "None\n",
      "Euclidean distance is: 3.1622776601683795\n",
      "None\n"
     ]
    }
   ],
   "source": [
    "# Confirming distance from 2 data points\n",
    "print(manhattan_dist_cal((1,2,5,7),(3,4,6,8)))\n",
    "print(euclid_dist_cal((1,2,5,7),(3,4,6,8)))"
   ]
  },
  {
   "cell_type": "code",
   "execution_count": 25,
   "id": "f11da551",
   "metadata": {},
   "outputs": [
    {
     "name": "stdout",
     "output_type": "stream",
     "text": [
      "Manhattan distance is: 7\n",
      "None\n",
      "Euclidean distance is: 3.872983346207417\n",
      "None\n"
     ]
    }
   ],
   "source": [
    "print(manhattan_dist_cal((2,3,4,7),(3,5,7,8)))\n",
    "print(euclid_dist_cal((2,3,4,7),(3,5,7,8)))"
   ]
  }
 ],
 "metadata": {
  "kernelspec": {
   "display_name": "Python 3",
   "language": "python",
   "name": "python3"
  },
  "language_info": {
   "codemirror_mode": {
    "name": "ipython",
    "version": 3
   },
   "file_extension": ".py",
   "mimetype": "text/x-python",
   "name": "python",
   "nbconvert_exporter": "python",
   "pygments_lexer": "ipython3",
   "version": "3.8.8"
  }
 },
 "nbformat": 4,
 "nbformat_minor": 5
}
